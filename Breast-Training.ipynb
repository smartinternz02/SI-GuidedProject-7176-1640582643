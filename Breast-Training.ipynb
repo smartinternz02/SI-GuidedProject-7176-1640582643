{
 "cells": [
  {
   "cell_type": "code",
   "execution_count": 1,
   "metadata": {},
   "outputs": [],
   "source": [
    "from tensorflow.keras.preprocessing.image import ImageDataGenerator\n",
    "from tensorflow.keras.models import Sequential\n",
    "from tensorflow.keras.layers import Dense\n",
    "from tensorflow.keras.layers import Convolution2D\n",
    "from tensorflow.keras.layers import MaxPooling2D\n",
    "from tensorflow.keras.layers import Flatten"
   ]
  },
  {
   "cell_type": "code",
   "execution_count": 2,
   "metadata": {},
   "outputs": [],
   "source": [
    "train_datagen = ImageDataGenerator(rescale = 1./255,shear_range = 0.2,zoom_range = 0.2,horizontal_flip = True)\n",
    "test_datagen =ImageDataGenerator(rescale = 1)"
   ]
  },
  {
   "cell_type": "code",
   "execution_count": 3,
   "metadata": {},
   "outputs": [
    {
     "name": "stdout",
     "output_type": "stream",
     "text": [
      "Found 103 images belonging to 2 classes.\n",
      "Found 22 images belonging to 2 classes.\n"
     ]
    }
   ],
   "source": [
    "x_train = train_datagen.flow_from_directory('breastcancerdataset/train',target_size = (120,120),batch_size = 10, class_mode = 'categorical')\n",
    "x_test =  test_datagen.flow_from_directory('breastcancerdataset/test',target_size = (120,120),batch_size = 10, class_mode = 'categorical')"
   ]
  },
  {
   "cell_type": "code",
   "execution_count": 4,
   "metadata": {},
   "outputs": [
    {
     "name": "stdout",
     "output_type": "stream",
     "text": [
      "{'benign': 0, 'malignant': 1}\n"
     ]
    }
   ],
   "source": [
    "print(x_train.class_indices)"
   ]
  },
  {
   "cell_type": "code",
   "execution_count": 5,
   "metadata": {},
   "outputs": [],
   "source": [
    "model = Sequential()"
   ]
  },
  {
   "cell_type": "code",
   "execution_count": 6,
   "metadata": {},
   "outputs": [],
   "source": [
    "model.add(Convolution2D(32,(3,3),input_shape=(120,120,3),activation='relu'))\n",
    "model.add(MaxPooling2D(2,2))\n",
    "model.add(Flatten()) \n",
    "model.add(Dense(kernel_initializer='uniform',activation='relu',units=150))\n",
    "model.add(Dense(kernel_initializer='uniform',activation='softmax',units=2))\n",
    "model.compile(loss='categorical_crossentropy', optimizer='adam', metrics=['acc'])"
   ]
  },
  {
   "cell_type": "code",
   "execution_count": 7,
   "metadata": {},
   "outputs": [
    {
     "name": "stderr",
     "output_type": "stream",
     "text": [
      "<ipython-input-7-d066c7f22aad>:1: UserWarning: `Model.fit_generator` is deprecated and will be removed in a future version. Please use `Model.fit`, which supports generators.\n",
      "  model.fit_generator(x_train, steps_per_epoch = 103//10 ,epochs = 10, validation_data = x_test, validation_steps=22//10)\n"
     ]
    },
    {
     "name": "stdout",
     "output_type": "stream",
     "text": [
      "Epoch 1/10\n",
      "10/10 [==============================] - 3s 250ms/step - loss: 3.0985 - acc: 0.6100 - val_loss: 142.6681 - val_acc: 0.7000\n",
      "Epoch 2/10\n",
      "10/10 [==============================] - 2s 205ms/step - loss: 0.5516 - acc: 0.7527 - val_loss: 83.2161 - val_acc: 0.7000\n",
      "Epoch 3/10\n",
      "10/10 [==============================] - 2s 204ms/step - loss: 0.5340 - acc: 0.7527 - val_loss: 100.6918 - val_acc: 0.7500\n",
      "Epoch 4/10\n",
      "10/10 [==============================] - 2s 216ms/step - loss: 0.5602 - acc: 0.7527 - val_loss: 60.9928 - val_acc: 0.7000\n",
      "Epoch 5/10\n",
      "10/10 [==============================] - 2s 206ms/step - loss: 0.5328 - acc: 0.7527 - val_loss: 137.3655 - val_acc: 0.7000\n",
      "Epoch 6/10\n",
      "10/10 [==============================] - 2s 202ms/step - loss: 0.5530 - acc: 0.7312 - val_loss: 66.2973 - val_acc: 0.7000\n",
      "Epoch 7/10\n",
      "10/10 [==============================] - 2s 203ms/step - loss: 0.5634 - acc: 0.7527 - val_loss: 81.4703 - val_acc: 0.7500\n",
      "Epoch 8/10\n",
      "10/10 [==============================] - 2s 205ms/step - loss: 0.5679 - acc: 0.7204 - val_loss: 36.9884 - val_acc: 0.7500\n",
      "Epoch 9/10\n",
      "10/10 [==============================] - 2s 211ms/step - loss: 0.5276 - acc: 0.7300 - val_loss: 109.3591 - val_acc: 0.7500\n",
      "Epoch 10/10\n",
      "10/10 [==============================] - 2s 202ms/step - loss: 0.5244 - acc: 0.7312 - val_loss: 44.2112 - val_acc: 0.7000\n"
     ]
    },
    {
     "data": {
      "text/plain": [
       "<keras.callbacks.History at 0x2a1f1b9fbb0>"
      ]
     },
     "execution_count": 7,
     "metadata": {},
     "output_type": "execute_result"
    }
   ],
   "source": [
    "model.fit_generator(x_train, steps_per_epoch = 103//10 ,epochs = 10, validation_data = x_test, validation_steps=22//10)"
   ]
  },
  {
   "cell_type": "code",
   "execution_count": 8,
   "metadata": {},
   "outputs": [],
   "source": [
    "model.save(\"breastcancer.h5\")"
   ]
  },
  {
   "cell_type": "code",
   "execution_count": null,
   "metadata": {},
   "outputs": [],
   "source": []
  }
 ],
 "metadata": {
  "kernelspec": {
   "display_name": "Python 3",
   "language": "python",
   "name": "python3"
  },
  "language_info": {
   "codemirror_mode": {
    "name": "ipython",
    "version": 3
   },
   "file_extension": ".py",
   "mimetype": "text/x-python",
   "name": "python",
   "nbconvert_exporter": "python",
   "pygments_lexer": "ipython3",
   "version": "3.8.8"
  }
 },
 "nbformat": 4,
 "nbformat_minor": 2
}
